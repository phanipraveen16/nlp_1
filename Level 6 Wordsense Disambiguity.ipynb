{
 "cells": [
  {
   "cell_type": "markdown",
   "metadata": {
    "deletable": true,
    "editable": true
   },
   "source": [
    "### Word Sense Disambiguity"
   ]
  },
  {
   "cell_type": "markdown",
   "metadata": {
    "deletable": true,
    "editable": true
   },
   "source": [
    "Given the following sentences:\n",
    "\n",
    "    The agent will book the to the show for the entire family.\n",
    "    But you can generally book tickets online.\n",
    "    When you book tickets online they provide you with a book of stamps\n",
    "    \n",
    "If you could see the above sentences the word book is used in different context. In first two sentences the word book(verb) refers to the meaning 'reserve' while in the second portion of the third sentence book(noun) refers to a physical entity."
   ]
  },
  {
   "cell_type": "markdown",
   "metadata": {
    "deletable": true,
    "editable": true
   },
   "source": [
    "## Part - 1\n",
    "\n",
    "    Use the Lesk Module to find the similar words of the word *book* using the above sentences. Record your observations.\n",
    "    \n",
    "## Part - 2\n",
    "\n",
    "Tag sentences using Brill Tagger.\n",
    "\n",
    "### Brill Tagger\n",
    "\n",
    "The BrillTagger class is a **transformation-based tagger**. The BrillTagger class uses a series\n",
    "of rules to correct the results of an initial tagger. These rules are scored based on how many\n",
    "errors they correct minus the number of new errors they produce.\n",
    "\n",
    "The idea is simple Brill Tagger tries to correct the mistake made by the inital tagger. Brill tagger inputs an initial tagger and the templates which autmatically tells to create new rules based on the Training Set.\n",
    "\n",
    "**Recommended Steps:**\n",
    "\n",
    "1. Initially tag the sentence using POS Tagger. Then observe the POS tags for the word book in different context\n",
    "2. Then create a tagged_sentence using the POS Tagger correcting it with the mistakes it made.\n",
    "3. Now create a Brill Tagger using an initial tagger (POS) and pass templates(rules) to it.\n",
    "4. Train the Brill Tagger using the Tagged Sentence\n",
    "5. Test the Brill Tagger on the following sentences:\n",
    "       > \"I bought this book from Kerala\"\n",
    "       > \"He will book tickets to Kerala\"\n",
    "       \n",
    "## Part - 3\n",
    "\n",
    "    Perform Part-1 again but passing the POS tags produced by the Brill Tagger.\n",
    "    "
   ]
  },
  {
   "cell_type": "markdown",
   "metadata": {
    "deletable": true,
    "editable": true
   },
   "source": []
  },
  {
   "cell_type": "code",
   "execution_count": 79,
   "metadata": {
    "collapsed": true,
    "deletable": true,
    "editable": true
   },
   "outputs": [],
   "source": [
    "from nltk.wsd import lesk\n",
    "import nltk\n",
    "from nltk.corpus import stopwords\n",
    "from nltk.tokenize import sent_tokenize,word_tokenize,regexp_tokenize\n",
    "from nltk.tokenize import PunktSentenceTokenizer\n",
    "from nltk.corpus import wordnet\n",
    "from nltk.corpus import state_union\n",
    "    "
   ]
  },
  {
   "cell_type": "code",
   "execution_count": 80,
   "metadata": {
    "collapsed": true,
    "deletable": true,
    "editable": true
   },
   "outputs": [],
   "source": [
    "text = \"\"\"The agent will book the to the show for the entire family.\n",
    "But you can generally book tickets online.\n",
    "When you book tickets online they provide you with a book of stamps\"\"\""
   ]
  },
  {
   "cell_type": "code",
   "execution_count": 81,
   "metadata": {
    "collapsed": false,
    "deletable": true,
    "editable": true
   },
   "outputs": [
    {
     "name": "stdout",
     "output_type": "stream",
     "text": [
      "Synset('script.n.01')\n",
      "Synset('script.n.01')\n",
      "Synset('script.n.01')\n"
     ]
    }
   ],
   "source": [
    "sentences = sent_tokenize(text)\n",
    "ambiguous = 'book'\n",
    "for i in sentences:\n",
    "    x = lesk(i,ambiguous)\n",
    "    print(x)\n",
    "    "
   ]
  },
  {
   "cell_type": "markdown",
   "metadata": {
    "deletable": true,
    "editable": true
   },
   "source": [
    "### Part2"
   ]
  },
  {
   "cell_type": "code",
   "execution_count": 82,
   "metadata": {
    "collapsed": false,
    "deletable": true,
    "editable": true
   },
   "outputs": [
    {
     "data": {
      "text/plain": [
       "['The',\n",
       " 'agent',\n",
       " 'will',\n",
       " 'book',\n",
       " 'the',\n",
       " 'to',\n",
       " 'the',\n",
       " 'show',\n",
       " 'for',\n",
       " 'the',\n",
       " 'entire',\n",
       " 'family',\n",
       " 'But',\n",
       " 'you',\n",
       " 'can',\n",
       " 'generally',\n",
       " 'book',\n",
       " 'tickets',\n",
       " 'online',\n",
       " 'When',\n",
       " 'you',\n",
       " 'book',\n",
       " 'tickets',\n",
       " 'online',\n",
       " 'they',\n",
       " 'provide',\n",
       " 'you',\n",
       " 'with',\n",
       " 'a',\n",
       " 'book',\n",
       " 'of',\n",
       " 'stamps']"
      ]
     },
     "execution_count": 82,
     "metadata": {},
     "output_type": "execute_result"
    }
   ],
   "source": [
    "word = regexp_tokenize(text, pattern=r'\\w+')\n",
    "word"
   ]
  },
  {
   "cell_type": "code",
   "execution_count": 83,
   "metadata": {
    "collapsed": false,
    "deletable": true,
    "editable": true
   },
   "outputs": [
    {
     "name": "stdout",
     "output_type": "stream",
     "text": [
      "[('The', 'DT'), ('agent', 'NN'), ('will', 'MD'), ('book', 'NN'), ('the', 'DT'), ('to', 'TO'), ('the', 'DT'), ('show', 'NN'), ('for', 'IN'), ('the', 'DT'), ('entire', 'JJ'), ('family', 'NN'), ('But', 'CC'), ('you', 'PRP'), ('can', 'MD'), ('generally', 'RB'), ('book', 'NN'), ('tickets', 'NNS'), ('online', 'VBP'), ('When', 'WRB'), ('you', 'PRP'), ('book', 'NN'), ('tickets', 'NNS'), ('online', 'VBP'), ('they', 'PRP'), ('provide', 'VBP'), ('you', 'PRP'), ('with', 'IN'), ('a', 'DT'), ('book', 'NN'), ('of', 'IN'), ('stamps', 'NNS')]\n"
     ]
    }
   ],
   "source": [
    "tagged = nltk.pos_tag(word)\n",
    "print(tagged)"
   ]
  },
  {
   "cell_type": "code",
   "execution_count": 84,
   "metadata": {
    "collapsed": true,
    "deletable": true,
    "editable": true
   },
   "outputs": [],
   "source": [
    "tag = tagged"
   ]
  },
  {
   "cell_type": "code",
   "execution_count": 85,
   "metadata": {
    "collapsed": false,
    "deletable": true,
    "editable": true
   },
   "outputs": [],
   "source": [
    "tag[3] = ('book','VBD')\n",
    "tag[16] = ('book','VBD')"
   ]
  },
  {
   "cell_type": "code",
   "execution_count": 86,
   "metadata": {
    "collapsed": false,
    "deletable": true,
    "editable": true
   },
   "outputs": [
    {
     "data": {
      "text/plain": [
       "[[('The', 'DT'),\n",
       "  ('agent', 'NN'),\n",
       "  ('will', 'MD'),\n",
       "  ('book', 'VBD'),\n",
       "  ('the', 'DT'),\n",
       "  ('to', 'TO'),\n",
       "  ('the', 'DT'),\n",
       "  ('show', 'NN'),\n",
       "  ('for', 'IN'),\n",
       "  ('the', 'DT'),\n",
       "  ('entire', 'JJ'),\n",
       "  ('family', 'NN'),\n",
       "  ('But', 'CC'),\n",
       "  ('you', 'PRP'),\n",
       "  ('can', 'MD'),\n",
       "  ('generally', 'RB'),\n",
       "  ('book', 'VBD'),\n",
       "  ('tickets', 'NNS'),\n",
       "  ('online', 'VBP'),\n",
       "  ('When', 'WRB'),\n",
       "  ('you', 'PRP'),\n",
       "  ('book', 'NN'),\n",
       "  ('tickets', 'NNS'),\n",
       "  ('online', 'VBP'),\n",
       "  ('they', 'PRP'),\n",
       "  ('provide', 'VBP'),\n",
       "  ('you', 'PRP'),\n",
       "  ('with', 'IN'),\n",
       "  ('a', 'DT'),\n",
       "  ('book', 'NN'),\n",
       "  ('of', 'IN'),\n",
       "  ('stamps', 'NNS')]]"
      ]
     },
     "execution_count": 86,
     "metadata": {},
     "output_type": "execute_result"
    }
   ],
   "source": [
    "x = []\n",
    "x.append(tag)\n",
    "x"
   ]
  },
  {
   "cell_type": "code",
   "execution_count": 87,
   "metadata": {
    "collapsed": false,
    "deletable": true,
    "editable": true
   },
   "outputs": [],
   "source": [
    "import nltk.tag\n",
    "from nltk.tag import brill,AffixTagger,UnigramTagger,BigramTagger,TrigramTagger"
   ]
  },
  {
   "cell_type": "code",
   "execution_count": 88,
   "metadata": {
    "collapsed": false,
    "deletable": true,
    "editable": true
   },
   "outputs": [],
   "source": [
    "from nltk.corpus import brown\n",
    "\n",
    "brown_tagged_sents = brown.tagged_sents()\n",
    "#size = int(len(brown_tagged_sents) * 0.9)\n",
    "\n",
    "train_sents = brown_tagged_sents"
   ]
  },
  {
   "cell_type": "code",
   "execution_count": 89,
   "metadata": {
    "collapsed": false,
    "deletable": true,
    "editable": true
   },
   "outputs": [
    {
     "data": {
      "text/plain": [
       "[[('The', 'AT'), ('Fulton', 'NP-TL'), ('County', 'NN-TL'), ('Grand', 'JJ-TL'), ('Jury', 'NN-TL'), ('said', 'VBD'), ('Friday', 'NR'), ('an', 'AT'), ('investigation', 'NN'), ('of', 'IN'), (\"Atlanta's\", 'NP$'), ('recent', 'JJ'), ('primary', 'NN'), ('election', 'NN'), ('produced', 'VBD'), ('``', '``'), ('no', 'AT'), ('evidence', 'NN'), (\"''\", \"''\"), ('that', 'CS'), ('any', 'DTI'), ('irregularities', 'NNS'), ('took', 'VBD'), ('place', 'NN'), ('.', '.')], [('The', 'AT'), ('jury', 'NN'), ('further', 'RBR'), ('said', 'VBD'), ('in', 'IN'), ('term-end', 'NN'), ('presentments', 'NNS'), ('that', 'CS'), ('the', 'AT'), ('City', 'NN-TL'), ('Executive', 'JJ-TL'), ('Committee', 'NN-TL'), (',', ','), ('which', 'WDT'), ('had', 'HVD'), ('over-all', 'JJ'), ('charge', 'NN'), ('of', 'IN'), ('the', 'AT'), ('election', 'NN'), (',', ','), ('``', '``'), ('deserves', 'VBZ'), ('the', 'AT'), ('praise', 'NN'), ('and', 'CC'), ('thanks', 'NNS'), ('of', 'IN'), ('the', 'AT'), ('City', 'NN-TL'), ('of', 'IN-TL'), ('Atlanta', 'NP-TL'), (\"''\", \"''\"), ('for', 'IN'), ('the', 'AT'), ('manner', 'NN'), ('in', 'IN'), ('which', 'WDT'), ('the', 'AT'), ('election', 'NN'), ('was', 'BEDZ'), ('conducted', 'VBN'), ('.', '.')], ...]"
      ]
     },
     "execution_count": 89,
     "metadata": {},
     "output_type": "execute_result"
    }
   ],
   "source": [
    "train_sents"
   ]
  },
  {
   "cell_type": "code",
   "execution_count": 90,
   "metadata": {
    "collapsed": true,
    "deletable": true,
    "editable": true
   },
   "outputs": [],
   "source": [
    "t0 = nltk.DefaultTagger('N')\n",
    "t1 = nltk.UnigramTagger(train_sents)"
   ]
  },
  {
   "cell_type": "code",
   "execution_count": 91,
   "metadata": {
    "collapsed": false,
    "deletable": true,
    "editable": true
   },
   "outputs": [
    {
     "data": {
      "text/plain": [
       "[('The', 'AT'),\n",
       " ('agent', 'NN'),\n",
       " ('will', 'MD'),\n",
       " ('book', 'NN'),\n",
       " ('the', 'AT'),\n",
       " ('to', 'TO'),\n",
       " ('the', 'AT'),\n",
       " ('show', 'VB'),\n",
       " ('for', 'IN'),\n",
       " ('the', 'AT'),\n",
       " ('entire', 'JJ'),\n",
       " ('family', 'NN'),\n",
       " ('But', 'CC'),\n",
       " ('you', 'PPSS'),\n",
       " ('can', 'MD'),\n",
       " ('generally', 'RB'),\n",
       " ('book', 'NN'),\n",
       " ('tickets', 'NNS'),\n",
       " ('online', None),\n",
       " ('When', 'WRB'),\n",
       " ('you', 'PPSS'),\n",
       " ('book', 'NN'),\n",
       " ('tickets', 'NNS'),\n",
       " ('online', None),\n",
       " ('they', 'PPSS'),\n",
       " ('provide', 'VB'),\n",
       " ('you', 'PPSS'),\n",
       " ('with', 'IN'),\n",
       " ('a', 'AT'),\n",
       " ('book', 'NN'),\n",
       " ('of', 'IN'),\n",
       " ('stamps', 'NNS')]"
      ]
     },
     "execution_count": 91,
     "metadata": {},
     "output_type": "execute_result"
    }
   ],
   "source": [
    "t1.tag(word)"
   ]
  },
  {
   "cell_type": "code",
   "execution_count": 92,
   "metadata": {
    "collapsed": true,
    "deletable": true,
    "editable": true
   },
   "outputs": [],
   "source": [
    "t2 = nltk.BigramTagger(train_sents)"
   ]
  },
  {
   "cell_type": "code",
   "execution_count": 93,
   "metadata": {
    "collapsed": false,
    "deletable": true,
    "editable": true
   },
   "outputs": [
    {
     "data": {
      "text/plain": [
       "[('The', 'AT'),\n",
       " ('agent', 'NN'),\n",
       " ('will', 'MD'),\n",
       " ('book', None),\n",
       " ('the', None),\n",
       " ('to', None),\n",
       " ('the', None),\n",
       " ('show', None),\n",
       " ('for', None),\n",
       " ('the', None),\n",
       " ('entire', None),\n",
       " ('family', None),\n",
       " ('But', None),\n",
       " ('you', None),\n",
       " ('can', None),\n",
       " ('generally', None),\n",
       " ('book', None),\n",
       " ('tickets', None),\n",
       " ('online', None),\n",
       " ('When', None),\n",
       " ('you', None),\n",
       " ('book', None),\n",
       " ('tickets', None),\n",
       " ('online', None),\n",
       " ('they', None),\n",
       " ('provide', None),\n",
       " ('you', None),\n",
       " ('with', None),\n",
       " ('a', None),\n",
       " ('book', None),\n",
       " ('of', None),\n",
       " ('stamps', None)]"
      ]
     },
     "execution_count": 93,
     "metadata": {},
     "output_type": "execute_result"
    }
   ],
   "source": [
    "t2.tag(word)"
   ]
  },
  {
   "cell_type": "code",
   "execution_count": 94,
   "metadata": {
    "collapsed": false,
    "deletable": true,
    "editable": true
   },
   "outputs": [],
   "source": [
    "from __future__ import print_function, division\n",
    "\n",
    "import bisect\n",
    "import textwrap\n",
    "from collections import defaultdict\n",
    "\n",
    "from nltk.tag import untag,brill_trainer,brill,BrillTaggerTrainer\n"
   ]
  },
  {
   "cell_type": "code",
   "execution_count": 113,
   "metadata": {
    "collapsed": false,
    "deletable": true,
    "editable": true
   },
   "outputs": [],
   "source": [
    "from nltk.data import load\n",
    "pos_tag = load('taggers/maxent_treebank_pos_tagger/english.pickle')\n",
    "_tagger = UnigramTagger(x)\n",
    "templates = [brill.Template(brill.Pos([-1])),\n",
    "    brill.Template(brill.Pos([1])),\n",
    "    brill.Template(brill.Pos([-2])),\n",
    "    brill.Template(brill.Pos([2])),\n",
    "    brill.Template(brill.Pos([-2,-1])),\n",
    "    brill.Template(brill.Pos([1,2])),\n",
    "    brill.Template(brill.Pos([-3,-2,-1])),\n",
    "    brill.Template(brill.Pos([1,2,3])),\n",
    "    brill.Template(brill.Pos([-1]),brill.Pos([1])),         \n",
    "    brill.Template(brill.Word([-1])),\n",
    "    brill.Template(brill.Word([1])),\n",
    "    brill.Template(brill.Word([-2])),\n",
    "    brill.Template(brill.Word([2])),\n",
    "    brill.Template(brill.Word([-2,-1])),\n",
    "    brill.Template(brill.Word([1,2])),\n",
    "    brill.Template(brill.Word([-3,-2,-1])),\n",
    "    brill.Template(brill.Word([1,2,3])),\n",
    "    brill.Template(brill.Word([-1]),brill.Word([1]))]         \n",
    "\n",
    "                                   \n",
    "trainer2 = BrillTaggerTrainer(initial_tagger=pos_tag,\n",
    "                                   templates=templates, trace=3,\n",
    "                                   deterministic=True)\n",
    "#brill_tagger = trainer2.train(x, max_rules=10)"
   ]
  },
  {
   "cell_type": "code",
   "execution_count": 114,
   "metadata": {
    "collapsed": false,
    "deletable": true,
    "editable": true
   },
   "outputs": [
    {
     "name": "stdout",
     "output_type": "stream",
     "text": [
      "TBL train (fast) (seqs: 1; tokens: 32; tpls: 18; min score: 2; min acc: None)\n",
      "Finding initial useful rules...\n",
      "    Found 116 useful rules.\n",
      "\n",
      "           B      |\n",
      "   S   F   r   O  |        Score = Fixed - Broken\n",
      "   c   i   o   t  |  R     Fixed = num tags changed incorrect -> correct\n",
      "   o   x   k   h  |  u     Broken = num tags changed correct -> incorrect\n",
      "   r   e   e   e  |  l     Other = num tags changed incorrect -> incorrect\n",
      "   e   d   n   r  |  e\n",
      "------------------+-------------------------------------------------------\n",
      "   2   2   0   0  | VB->VBD if Pos:MD@[-2,-1]\n"
     ]
    }
   ],
   "source": [
    "brill_tagger = trainer2.train(x, max_rules=10)"
   ]
  },
  {
   "cell_type": "code",
   "execution_count": 116,
   "metadata": {
    "collapsed": true,
    "deletable": true,
    "editable": true
   },
   "outputs": [],
   "source": [
    "text_2 = \"\"\"I bought this book from Kerala\n",
    "         He will book tickets to Kerala\"\"\"\n",
    "word_new = regexp_tokenize(text_2, pattern=r'\\w+')\n",
    "tagged_new = nltk.pos_tag(word_new)\n"
   ]
  },
  {
   "cell_type": "code",
   "execution_count": 118,
   "metadata": {
    "collapsed": false,
    "deletable": true,
    "editable": true
   },
   "outputs": [
    {
     "data": {
      "text/plain": [
       "[('I', 'PRP'),\n",
       " ('bought', 'VBD'),\n",
       " ('this', 'DT'),\n",
       " ('book', 'NN'),\n",
       " ('from', 'IN'),\n",
       " ('Kerala', 'NNP'),\n",
       " ('He', 'NNP'),\n",
       " ('will', 'MD'),\n",
       " ('book', 'VBD'),\n",
       " ('tickets', 'NNS'),\n",
       " ('to', 'TO'),\n",
       " ('Kerala', 'NNP')]"
      ]
     },
     "execution_count": 118,
     "metadata": {},
     "output_type": "execute_result"
    }
   ],
   "source": [
    "brill_tagger.tag(word_new)"
   ]
  },
  {
   "cell_type": "markdown",
   "metadata": {
    "collapsed": true,
    "deletable": true,
    "editable": true
   },
   "source": [
    "### Part3"
   ]
  },
  {
   "cell_type": "code",
   "execution_count": 119,
   "metadata": {
    "collapsed": false
   },
   "outputs": [
    {
     "data": {
      "text/plain": [
       "[('The', 'DT'),\n",
       " ('agent', 'NN'),\n",
       " ('will', 'MD'),\n",
       " ('book', 'VBD'),\n",
       " ('the', 'DT'),\n",
       " ('to', 'TO'),\n",
       " ('the', 'DT'),\n",
       " ('show', 'NN'),\n",
       " ('for', 'IN'),\n",
       " ('the', 'DT'),\n",
       " ('entire', 'JJ'),\n",
       " ('family', 'NN'),\n",
       " ('But', 'CC'),\n",
       " ('you', 'PRP'),\n",
       " ('can', 'MD'),\n",
       " ('generally', 'RB'),\n",
       " ('book', 'VBD'),\n",
       " ('tickets', 'NNS'),\n",
       " ('online', 'NN'),\n",
       " ('When', 'WRB'),\n",
       " ('you', 'PRP'),\n",
       " ('book', 'VBP'),\n",
       " ('tickets', 'NNS'),\n",
       " ('online', 'VBP'),\n",
       " ('they', 'PRP'),\n",
       " ('provide', 'VBP'),\n",
       " ('you', 'PRP'),\n",
       " ('with', 'IN'),\n",
       " ('a', 'DT'),\n",
       " ('book', 'NN'),\n",
       " ('of', 'IN'),\n",
       " ('stamps', 'NNS')]"
      ]
     },
     "execution_count": 119,
     "metadata": {},
     "output_type": "execute_result"
    }
   ],
   "source": [
    "brill_tagger.tag(word)"
   ]
  },
  {
   "cell_type": "code",
   "execution_count": null,
   "metadata": {
    "collapsed": true
   },
   "outputs": [],
   "source": []
  }
 ],
 "metadata": {
  "kernelspec": {
   "display_name": "Python 3",
   "language": "python",
   "name": "python3"
  },
  "language_info": {
   "codemirror_mode": {
    "name": "ipython",
    "version": 3
   },
   "file_extension": ".py",
   "mimetype": "text/x-python",
   "name": "python",
   "nbconvert_exporter": "python",
   "pygments_lexer": "ipython3",
   "version": "3.5.2"
  }
 },
 "nbformat": 4,
 "nbformat_minor": 2
}
