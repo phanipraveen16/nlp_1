{
 "cells": [
  {
   "cell_type": "markdown",
   "metadata": {
    "deletable": true,
    "editable": true
   },
   "source": [
    "## Chunking\n",
    "\n",
    "Chunk extraction is a useful preliminary step to information extraction, that creates parse trees from unstructured text with a chunker. Once you have a parse tree of a sentence, you can do more specific information extraction, such as named entity recognition and relation extraction.\n",
    "\n",
    "To find the chunk structure for a given sentence, the RegexpParser chunker begins with a flat structure in which no tokens are chunked. The chunking rules are applied in turn, successively updating the chunk structure. Once all of the rules have been invoked, the resulting chunk structure is returned.\n",
    "\n",
    "**Recommended Steps:**\n",
    "\n",
    "1. Sentence tokenization of the text.\n",
    "2. Word tokenization.\n",
    "3. POS tagging.\n",
    "4. Run the chunk rule. \n"
   ]
  },
  {
   "cell_type": "markdown",
   "metadata": {
    "deletable": true,
    "editable": true
   },
   "source": [
    "So here is Mr. James Wilson who wrote about Elon Musk. Here is the following content.\n",
    "\n",
    "~~~~ \n",
    "Musk was born on June 28, 1971, in Pretoria, Gauteng, South Africa,[27] the son of Maye Musk (née Haldeman), a model and dietician from Regina, Saskatchewan, Canada;[28] and Errol Musk, a South African electromechanical engineer, pilot and sailor. He has a younger brother, Kimbal (born 1972), and a younger sister, Tosca (born 1974).[28][29][30][31] His paternal grandmother was British, and he also has Pennsylvania Dutch ancestry,[32][33] and his maternal grandfather was American, from Minnesota.[34] After his parents divorced in 1980, Musk lived mostly with his father in the suburbs of Pretoria.[32]\n",
    "\n",
    "During his childhood he had an interest in reading and often did so for hours at a time.[35]\n",
    "\n",
    "At What age did Musk got interested in computing? At age 10, he developed an interest in computing with the Commodore VIC-20.[36] He taught himself computer programming at the age of 12, sold the code for a BASIC-based video game he created called Blastar, to a magazine called PC and Office Technology, for approximately $500. [37][38] A web version of the game is available online.[37][39]\n",
    "\n",
    "Musk was severely bullied throughout his childhood, and was once hospitalized when a group of boys threw him down a flight of stairs and then beat him until he lost consciousness.[40]\n",
    "\n",
    "Musk was initially educated at private schools, attending the English-speaking Waterkloof House Preparatory School. \n",
    "\n",
    "Mr. Singh helped Musk during his initial days when he was severely bullied during his childhood.\n",
    "\n",
    "Musk later graduated from Pretoria Boys High School and moved to Canada in June 1989, just before his 18th birthday,[41] after obtaining Canadian citizenship through his Canadian-born mother.[42][43] Although at the time Musk had to register to become a Canadian citizen, Bill C-37, which came into law in April of 2009, effectively made his Canadian citizenship retroactive to his birth since he was born in the first generation abroad to a Canadian-born mother. Therefore, with the law change, he is considered to have always been a Canadian citizen by birth.\n",
    "~~~~\n"
   ]
  },
  {
   "cell_type": "markdown",
   "metadata": {
    "deletable": true,
    "editable": true
   },
   "source": [
    "## Part - 1\n",
    "\n",
    "    Given the above extract find all the Noun Phrases(NP) using Chunking. Follow the recommended steps described above\n",
    "    \n",
    "    A Noun Phrase can be anything which has an optional Determiner(DT) followed by any number of adjectives(JJ) followed by a Noun(NN)\n",
    "    \n",
    "    \n",
    "## Part - 2\n",
    "\n",
    "    Use the built in Named Entity Extractor to extract the entities"
   ]
  },
  {
   "cell_type": "code",
   "execution_count": 1,
   "metadata": {
    "collapsed": true
   },
   "outputs": [],
   "source": [
    "import nltk\n",
    "from nltk.corpus import stopwords\n",
    "from nltk.tokenize import sent_tokenize,word_tokenize,regexp_tokenize\n",
    "from nltk.tokenize import PunktSentenceTokenizer\n",
    "from nltk.corpus import wordnet\n",
    "from nltk.corpus import state_union\n"
   ]
  },
  {
   "cell_type": "code",
   "execution_count": 2,
   "metadata": {
    "collapsed": true
   },
   "outputs": [],
   "source": [
    "text = \"\"\"Musk was born on June 28, 1971, in Pretoria, Gauteng, South Africa,[27] the son of Maye Musk (née Haldeman), a model and dietician from Regina, Saskatchewan, Canada;[28] and Errol Musk, a South African electromechanical engineer, pilot and sailor. He has a younger brother, Kimbal (born 1972), and a younger sister, Tosca (born 1974).[28][29][30][31] His paternal grandmother was British, and he also has Pennsylvania Dutch ancestry,[32][33] and his maternal grandfather was American, from Minnesota.[34] After his parents divorced in 1980, Musk lived mostly with his father in the suburbs of Pretoria.[32]\n",
    "\n",
    "During his childhood he had an interest in reading and often did so for hours at a time.[35]\n",
    "\n",
    "At What age did Musk got interested in computing? At age 10, he developed an interest in computing with the Commodore VIC-20.[36] He taught himself computer programming at the age of 12, sold the code for a BASIC-based video game he created called Blastar, to a magazine called PC and Office Technology, for approximately $500. [37][38] A web version of the game is available online.[37][39]\n",
    "\n",
    "Musk was severely bullied throughout his childhood, and was once hospitalized when a group of boys threw him down a flight of stairs and then beat him until he lost consciousness.[40]\n",
    "\n",
    "Musk was initially educated at private schools, attending the English-speaking Waterkloof House Preparatory School. \n",
    "\n",
    "Mr. Singh helped Musk during his initial days when he was severely bullied during his childhood.\n",
    "\n",
    "Musk later graduated from Pretoria Boys High School and moved to Canada in June 1989, just before his 18th birthday,[41] after obtaining Canadian citizenship through his Canadian-born mother.[42][43] Although at the time Musk had to register to become a Canadian citizen, Bill C-37, which came into law in April of 2009, effectively made his Canadian citizenship retroactive to his birth since he was born in the first generation abroad to a Canadian-born mother. Therefore, with the law change, he is considered to have always been a Canadian citizen by birth.\"\"\"\n",
    "\n"
   ]
  },
  {
   "cell_type": "code",
   "execution_count": 3,
   "metadata": {
    "collapsed": false
   },
   "outputs": [],
   "source": [
    "words = []\n",
    "word = regexp_tokenize(text, pattern=r'\\w+')\n",
    "tagged = nltk.pos_tag(word)\n",
    "words.append(tagged)      \n",
    "#words    "
   ]
  },
  {
   "cell_type": "code",
   "execution_count": 4,
   "metadata": {
    "collapsed": false
   },
   "outputs": [
    {
     "name": "stdout",
     "output_type": "stream",
     "text": [
      "[('Musk', 'NNP'), ('was', 'VBD'), ('born', 'VBN'), ('on', 'IN'), ('June', 'NNP'), ('28', 'CD'), ('1971', 'CD'), ('in', 'IN'), ('Pretoria', 'NNP'), ('Gauteng', 'NNP'), ('South', 'NNP'), ('Africa', 'NNP'), ('27', 'CD'), ('the', 'DT'), ('son', 'NN'), ('of', 'IN'), ('Maye', 'NNP'), ('Musk', 'NNP'), ('née', 'MD'), ('Haldeman', 'NNP'), ('a', 'DT'), ('model', 'NN'), ('and', 'CC'), ('dietician', 'JJ'), ('from', 'IN'), ('Regina', 'NNP'), ('Saskatchewan', 'NNP'), ('Canada', 'NNP'), ('28', 'CD'), ('and', 'CC'), ('Errol', 'NNP'), ('Musk', 'NNP'), ('a', 'DT'), ('South', 'JJ'), ('African', 'JJ'), ('electromechanical', 'JJ'), ('engineer', 'NN'), ('pilot', 'NN'), ('and', 'CC'), ('sailor', 'NN'), ('He', 'PRP'), ('has', 'VBZ'), ('a', 'DT'), ('younger', 'JJR'), ('brother', 'NN'), ('Kimbal', 'NNP'), ('born', 'NN'), ('1972', 'CD'), ('and', 'CC'), ('a', 'DT'), ('younger', 'JJR'), ('sister', 'NN'), ('Tosca', 'NNP'), ('born', 'NN'), ('1974', 'CD'), ('28', 'CD'), ('29', 'CD'), ('30', 'CD'), ('31', 'CD'), ('His', 'PRP$'), ('paternal', 'JJ'), ('grandmother', 'NN'), ('was', 'VBD'), ('British', 'JJ'), ('and', 'CC'), ('he', 'PRP'), ('also', 'RB'), ('has', 'VBZ'), ('Pennsylvania', 'NNP'), ('Dutch', 'NNP'), ('ancestry', 'NN'), ('32', 'CD'), ('33', 'CD'), ('and', 'CC'), ('his', 'PRP$'), ('maternal', 'JJ'), ('grandfather', 'NN'), ('was', 'VBD'), ('American', 'JJ'), ('from', 'IN'), ('Minnesota', 'NNP'), ('34', 'CD'), ('After', 'IN'), ('his', 'PRP$'), ('parents', 'NNS'), ('divorced', 'VBN'), ('in', 'IN'), ('1980', 'CD'), ('Musk', 'NNP'), ('lived', 'VBD'), ('mostly', 'RB'), ('with', 'IN'), ('his', 'PRP$'), ('father', 'NN'), ('in', 'IN'), ('the', 'DT'), ('suburbs', 'NN'), ('of', 'IN'), ('Pretoria', 'NNP'), ('32', 'CD'), ('During', 'IN'), ('his', 'PRP$'), ('childhood', 'NN'), ('he', 'PRP'), ('had', 'VBD'), ('an', 'DT'), ('interest', 'NN'), ('in', 'IN'), ('reading', 'NN'), ('and', 'CC'), ('often', 'RB'), ('did', 'VBD'), ('so', 'RB'), ('for', 'IN'), ('hours', 'NNS'), ('at', 'IN'), ('a', 'DT'), ('time', 'NN'), ('35', 'CD'), ('At', 'IN'), ('What', 'WP'), ('age', 'NN'), ('did', 'VBD'), ('Musk', 'NNP'), ('got', 'VBD'), ('interested', 'JJ'), ('in', 'IN'), ('computing', 'VBG'), ('At', 'IN'), ('age', 'NN'), ('10', 'CD'), ('he', 'PRP'), ('developed', 'VBD'), ('an', 'DT'), ('interest', 'NN'), ('in', 'IN'), ('computing', 'VBG'), ('with', 'IN'), ('the', 'DT'), ('Commodore', 'NNP'), ('VIC', 'NNP'), ('20', 'CD'), ('36', 'CD'), ('He', 'PRP'), ('taught', 'VBD'), ('himself', 'PRP'), ('computer', 'NN'), ('programming', 'VBG'), ('at', 'IN'), ('the', 'DT'), ('age', 'NN'), ('of', 'IN'), ('12', 'CD'), ('sold', 'VBD'), ('the', 'DT'), ('code', 'NN'), ('for', 'IN'), ('a', 'DT'), ('BASIC', 'NNP'), ('based', 'VBN'), ('video', 'NN'), ('game', 'NN'), ('he', 'PRP'), ('created', 'VBD'), ('called', 'VBN'), ('Blastar', 'NNP'), ('to', 'TO'), ('a', 'DT'), ('magazine', 'NN'), ('called', 'VBN'), ('PC', 'NN'), ('and', 'CC'), ('Office', 'NNP'), ('Technology', 'NNP'), ('for', 'IN'), ('approximately', 'RB'), ('500', 'CD'), ('37', 'CD'), ('38', 'CD'), ('A', 'NNP'), ('web', 'JJ'), ('version', 'NN'), ('of', 'IN'), ('the', 'DT'), ('game', 'NN'), ('is', 'VBZ'), ('available', 'JJ'), ('online', 'JJ'), ('37', 'CD'), ('39', 'CD'), ('Musk', 'NNP'), ('was', 'VBD'), ('severely', 'RB'), ('bullied', 'VBN'), ('throughout', 'IN'), ('his', 'PRP$'), ('childhood', 'NN'), ('and', 'CC'), ('was', 'VBD'), ('once', 'RB'), ('hospitalized', 'VBN'), ('when', 'WRB'), ('a', 'DT'), ('group', 'NN'), ('of', 'IN'), ('boys', 'NNS'), ('threw', 'VBD'), ('him', 'PRP'), ('down', 'RP'), ('a', 'DT'), ('flight', 'NN'), ('of', 'IN'), ('stairs', 'NNS'), ('and', 'CC'), ('then', 'RB'), ('beat', 'VBD'), ('him', 'PRP'), ('until', 'IN'), ('he', 'PRP'), ('lost', 'VBD'), ('consciousness', 'JJ'), ('40', 'CD'), ('Musk', 'NNP'), ('was', 'VBD'), ('initially', 'RB'), ('educated', 'VBN'), ('at', 'IN'), ('private', 'JJ'), ('schools', 'NNS'), ('attending', 'VBG'), ('the', 'DT'), ('English', 'JJ'), ('speaking', 'NN'), ('Waterkloof', 'NNP'), ('House', 'NNP'), ('Preparatory', 'NNP'), ('School', 'NNP'), ('Mr', 'NNP'), ('Singh', 'NNP'), ('helped', 'VBD'), ('Musk', 'NNP'), ('during', 'IN'), ('his', 'PRP$'), ('initial', 'JJ'), ('days', 'NNS'), ('when', 'WRB'), ('he', 'PRP'), ('was', 'VBD'), ('severely', 'RB'), ('bullied', 'VBN'), ('during', 'IN'), ('his', 'PRP$'), ('childhood', 'NN'), ('Musk', 'NNP'), ('later', 'RB'), ('graduated', 'VBD'), ('from', 'IN'), ('Pretoria', 'NNP'), ('Boys', 'NNP'), ('High', 'NNP'), ('School', 'NNP'), ('and', 'CC'), ('moved', 'VBD'), ('to', 'TO'), ('Canada', 'NNP'), ('in', 'IN'), ('June', 'NNP'), ('1989', 'CD'), ('just', 'RB'), ('before', 'IN'), ('his', 'PRP$'), ('18th', 'CD'), ('birthday', 'NN'), ('41', 'CD'), ('after', 'IN'), ('obtaining', 'VBG'), ('Canadian', 'JJ'), ('citizenship', 'NN'), ('through', 'IN'), ('his', 'PRP$'), ('Canadian', 'JJ'), ('born', 'VBN'), ('mother', 'NN'), ('42', 'CD'), ('43', 'CD'), ('Although', 'IN'), ('at', 'IN'), ('the', 'DT'), ('time', 'NN'), ('Musk', 'NNP'), ('had', 'VBD'), ('to', 'TO'), ('register', 'VB'), ('to', 'TO'), ('become', 'VB'), ('a', 'DT'), ('Canadian', 'JJ'), ('citizen', 'NN'), ('Bill', 'NNP'), ('C', 'NNP'), ('37', 'CD'), ('which', 'WDT'), ('came', 'VBD'), ('into', 'IN'), ('law', 'NN'), ('in', 'IN'), ('April', 'NNP'), ('of', 'IN'), ('2009', 'CD'), ('effectively', 'RB'), ('made', 'VBD'), ('his', 'PRP$'), ('Canadian', 'JJ'), ('citizenship', 'NN'), ('retroactive', 'JJ'), ('to', 'TO'), ('his', 'PRP$'), ('birth', 'NN'), ('since', 'IN'), ('he', 'PRP'), ('was', 'VBD'), ('born', 'VBN'), ('in', 'IN'), ('the', 'DT'), ('first', 'JJ'), ('generation', 'NN'), ('abroad', 'RB'), ('to', 'TO'), ('a', 'DT'), ('Canadian', 'JJ'), ('born', 'NN'), ('mother', 'NN'), ('Therefore', 'RB'), ('with', 'IN'), ('the', 'DT'), ('law', 'NN'), ('change', 'NN'), ('he', 'PRP'), ('is', 'VBZ'), ('considered', 'VBN'), ('to', 'TO'), ('have', 'VB'), ('always', 'RB'), ('been', 'VBN'), ('a', 'DT'), ('Canadian', 'JJ'), ('citizen', 'NN'), ('by', 'IN'), ('birth', 'NN')]\n"
     ]
    }
   ],
   "source": [
    "print(tagged)"
   ]
  },
  {
   "cell_type": "code",
   "execution_count": 5,
   "metadata": {
    "collapsed": true
   },
   "outputs": [],
   "source": [
    "chunkGram = r\"\"\"Chunk:{<DT?>*<JJ>+<NN>}\"\"\"\n",
    "chunkParser = nltk.RegexpParser(chunkGram)\n",
    "chunked = chunkParser.parse(tagged)\n",
    "chunked.draw()\n",
    "    "
   ]
  },
  {
   "cell_type": "markdown",
   "metadata": {},
   "source": [
    "### Part 2"
   ]
  },
  {
   "cell_type": "code",
   "execution_count": 8,
   "metadata": {
    "collapsed": false
   },
   "outputs": [],
   "source": [
    "namedEnt = nltk.ne_chunk(tagged)\n",
    "namedEnt.draw()"
   ]
  },
  {
   "cell_type": "markdown",
   "metadata": {
    "deletable": true,
    "editable": true
   },
   "source": []
  }
 ],
 "metadata": {
  "kernelspec": {
   "display_name": "Python 3",
   "language": "python",
   "name": "python3"
  },
  "language_info": {
   "codemirror_mode": {
    "name": "ipython",
    "version": 3
   },
   "file_extension": ".py",
   "mimetype": "text/x-python",
   "name": "python",
   "nbconvert_exporter": "python",
   "pygments_lexer": "ipython3",
   "version": "3.5.2"
  }
 },
 "nbformat": 4,
 "nbformat_minor": 2
}
