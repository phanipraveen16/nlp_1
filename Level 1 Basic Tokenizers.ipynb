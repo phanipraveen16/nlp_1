{
 "cells": [
  {
   "cell_type": "markdown",
   "metadata": {
    "deletable": true,
    "editable": true
   },
   "source": [
    "## UK Government Content Writing Criteria\n",
    "\n",
    "UK Government has a certain checklist for the content writers. They want the content writers to be more specific in the details they want to convey to the users. UK Government basically believes that when you write more people understand less. So they came up with a simple solution.\n",
    "\n",
    "1. There can be no more than 15 Sentences.\n",
    "2. And each sentence should have less than 15 words.\n",
    "3. And each word should be less than 15 words.\n",
    "\n",
    "Help the UK Government writing a detector which checks for the above criteria. \n",
    "\n",
    "Write three seperate detectors so that the content writer knows where exactly did he make the mistake"
   ]
  },
  {
   "cell_type": "markdown",
   "metadata": {
    "deletable": true,
    "editable": true
   },
   "source": [
    "So here is Mr. James Wilson who wrote about Elon Musk. Here is the following content.\n",
    "\n",
    "~~~~ \n",
    "Musk was born on June 28, 1971, in Pretoria, Gauteng, South Africa,[27] the son of Maye Musk (née Haldeman), a model and dietician from Regina, Saskatchewan, Canada;[28] and Errol Musk, a South African electromechanical engineer, pilot and sailor. He has a younger brother, Kimbal (born 1972), and a younger sister, Tosca (born 1974).[28][29][30][31] His paternal grandmother was British, and he also has Pennsylvania Dutch ancestry,[32][33] and his maternal grandfather was American, from Minnesota.[34] After his parents divorced in 1980, Musk lived mostly with his father in the suburbs of Pretoria.[32]\n",
    "\n",
    "During his childhood he had an interest in reading and often did so for hours at a time.[35]\n",
    "\n",
    "At What age did Musk got interested in computing? At age 10, he developed an interest in computing with the Commodore VIC-20.[36] He taught himself computer programming at the age of 12, sold the code for a BASIC-based video game he created called Blastar, to a magazine called PC and Office Technology, for approximately $500. [37][38] A web version of the game is available online.[37][39]\n",
    "\n",
    "Musk was severely bullied throughout his childhood, and was once hospitalized when a group of boys threw him down a flight of stairs and then beat him until he lost consciousness.[40]\n",
    "\n",
    "Musk was initially educated at private schools, attending the English-speaking Waterkloof House Preparatory School. \n",
    "\n",
    "Mr. Singh helped Musk during his initial days when he was severely bullied during his childhood.\n",
    "\n",
    "Musk later graduated from Pretoria Boys High School and moved to Canada in June 1989, just before his 18th birthday,[41] after obtaining Canadian citizenship through his Canadian-born mother.[42][43] Although at the time Musk had to register to become a Canadian citizen, Bill C-37, which came into law in April of 2009, effectively made his Canadian citizenship retroactive to his birth since he was born in the first generation abroad to a Canadian-born mother. Therefore, with the law change, he is considered to have always been a Canadian citizen by birth.\n",
    "~~~~\n"
   ]
  },
  {
   "cell_type": "code",
   "execution_count": 1,
   "metadata": {
    "collapsed": true,
    "deletable": true,
    "editable": true
   },
   "outputs": [],
   "source": [
    "# Function to detect first criteria"
   ]
  },
  {
   "cell_type": "code",
   "execution_count": 2,
   "metadata": {
    "collapsed": true,
    "deletable": true,
    "editable": true
   },
   "outputs": [],
   "source": [
    "import nltk\n",
    "from nltk.tokenize import sent_tokenize,word_tokenize,regexp_tokenize\n"
   ]
  },
  {
   "cell_type": "code",
   "execution_count": 3,
   "metadata": {
    "collapsed": true,
    "deletable": true,
    "editable": true
   },
   "outputs": [],
   "source": [
    "first_text = \"\"\"Musk was born on June 28, 1971, in Pretoria, Gauteng, South Africa,[27] the son of Maye Musk (née Haldeman),\n",
    "a model and dietician from Regina, Saskatchewan, Canada;[28] and Errol Musk, a South African electromechanical engineer, \n",
    "pilot and sailor. He has a younger brother, Kimbal (born 1972), and a younger sister, Tosca (born 1974).[28][29][30][31] \n",
    "His paternal grandmother was British, and he also has Pennsylvania Dutch ancestry,[32][33] and his maternal grandfather \n",
    "was American, from Minnesota.[34] After his parents divorced in 1980, Musk lived mostly with his father in the suburbs of \n",
    "Pretoria.[32]\n",
    "During his childhood he had an interest in reading and often did so for hours at a time.[35]\n",
    "At What age did Musk got interested in computing? At age 10, he developed an interest in computing with the Commodore \n",
    "VIC-20.[36] He taught himself computer programming at the age of 12, sold the code for a BASIC-based video game he created \n",
    "called Blastar, to a magazine called PC and Office Technology, for approximately $500. [37][38] A web version of the game\n",
    "is available online.[37][39]\n",
    "Musk was severely bullied throughout his childhood, and was once hospitalized when a group of boys threw him down a flight\n",
    "of stairs and then beat him until he lost consciousness.[40]\n",
    "Musk was initially educated at private schools, attending the English-speaking Waterkloof House Preparatory School. \n",
    "Mr. Singh helped Musk during his initial days when he was severely bullied during his childhood.\n",
    "Musk later graduated from Pretoria Boys High School and moved to Canada in June 1989, just before his 18th birthday,\n",
    "[41] after obtaining Canadian citizenship through his Canadian-born mother.[42][43] Although at the time Musk had to \n",
    "register to become a Canadian citizen, Bill C-37, which came into law in April of 2009, effectively made his Canadian \n",
    "citizenship retroactive to his birth since he was born in the first generation abroad to a Canadian-born mother. \n",
    "Therefore, with the law change, he is considered to have always been a Canadian citizen by birth.\"\"\"\n"
   ]
  },
  {
   "cell_type": "code",
   "execution_count": 24,
   "metadata": {
    "collapsed": false,
    "deletable": true,
    "editable": true
   },
   "outputs": [],
   "source": [
    "def first_criteria(para):\n",
    "    sentences = sent_tokenize(para)\n",
    "    no_of_sentences = len(sentences)\n",
    "    if(no_of_sentences <= 15):\n",
    "        print(\"given text matches first criteria and no of sentences is\",no_of_sentences)\n",
    "    else:\n",
    "        print(\"given text does not match first criteria and no of sentences is\",no_of_sentences)\n",
    "    \n",
    "\n"
   ]
  },
  {
   "cell_type": "code",
   "execution_count": 25,
   "metadata": {
    "collapsed": false,
    "deletable": true,
    "editable": true
   },
   "outputs": [
    {
     "name": "stdout",
     "output_type": "stream",
     "text": [
      "given text matches first criteria and no of sentences is 15\n"
     ]
    }
   ],
   "source": [
    "first_criteria(first_text)"
   ]
  },
  {
   "cell_type": "markdown",
   "metadata": {
    "deletable": true,
    "editable": true
   },
   "source": [
    "### as no of sentences is not more than 15,first criteria is satisfied"
   ]
  },
  {
   "cell_type": "code",
   "execution_count": 85,
   "metadata": {
    "collapsed": true,
    "deletable": true,
    "editable": true
   },
   "outputs": [],
   "source": [
    "# Function to detect second criteria"
   ]
  },
  {
   "cell_type": "code",
   "execution_count": 86,
   "metadata": {
    "collapsed": false,
    "deletable": true,
    "editable": true
   },
   "outputs": [],
   "source": [
    "def second_criteria(list):\n",
    "    words_length = []    \n",
    "    for l in list:\n",
    "        words = regexp_tokenize(l, pattern=r'[^(+\\[\\d{1,2}\\]\\n]\\w+')\n",
    "        words_length.append(len(words))\n",
    "    for i in range(len(words_length)):\n",
    "        j = i+1\n",
    "        if(words_length[i] <= 15):\n",
    "            print(\"sentence\",j,\"has\",words_length[i],\"words which is less than 15 words and matches criteria\")\n",
    "        else:\n",
    "            print(\"sentence\",j,\"has\",words_length[i],\"words which is more than 15 words and doesnot match criteria\")\n",
    "       \n",
    "        \n",
    "   "
   ]
  },
  {
   "cell_type": "code",
   "execution_count": 87,
   "metadata": {
    "collapsed": false,
    "deletable": true,
    "editable": true
   },
   "outputs": [
    {
     "name": "stdout",
     "output_type": "stream",
     "text": [
      "sentence 1 has 37 words which is more than 15 words and doesnot match criteria\n",
      "sentence 2 has 15 words which is less than 15 words and matches criteria\n",
      "sentence 3 has 20 words which is more than 15 words and doesnot match criteria\n",
      "sentence 4 has 17 words which is more than 15 words and doesnot match criteria\n",
      "sentence 5 has 18 words which is more than 15 words and doesnot match criteria\n",
      "sentence 6 has 9 words which is less than 15 words and matches criteria\n",
      "sentence 7 has 14 words which is less than 15 words and matches criteria\n",
      "sentence 8 has 34 words which is more than 15 words and doesnot match criteria\n",
      "sentence 9 has 9 words which is less than 15 words and matches criteria\n",
      "sentence 10 has 31 words which is more than 15 words and doesnot match criteria\n",
      "sentence 11 has 15 words which is less than 15 words and matches criteria\n",
      "sentence 12 has 16 words which is more than 15 words and doesnot match criteria\n",
      "sentence 13 has 29 words which is more than 15 words and doesnot match criteria\n",
      "sentence 14 has 47 words which is more than 15 words and doesnot match criteria\n",
      "sentence 15 has 17 words which is more than 15 words and doesnot match criteria\n"
     ]
    }
   ],
   "source": [
    "first_text_sentences = sent_tokenize(first_text)\n",
    "second_criteria(first_text_sentences)"
   ]
  },
  {
   "cell_type": "code",
   "execution_count": 84,
   "metadata": {
    "collapsed": true,
    "deletable": true,
    "editable": true
   },
   "outputs": [],
   "source": [
    "# Function to detect third criteria"
   ]
  },
  {
   "cell_type": "code",
   "execution_count": 28,
   "metadata": {
    "collapsed": false,
    "deletable": true,
    "editable": true
   },
   "outputs": [],
   "source": [
    "def third_criteria(list):\n",
    "    words = word_tokenize(list)\n",
    "    for i in words:\n",
    "        word_length = len(i)\n",
    "        if(word_length > 15):\n",
    "            print(\"the word\",i,\"has more than than 15 words\")\n",
    "    \n",
    "    \n"
   ]
  },
  {
   "cell_type": "code",
   "execution_count": 29,
   "metadata": {
    "collapsed": false,
    "deletable": true,
    "editable": true
   },
   "outputs": [
    {
     "name": "stdout",
     "output_type": "stream",
     "text": [
      "the word electromechanical has more than than 15 words\n",
      "the word English-speaking has more than than 15 words\n"
     ]
    }
   ],
   "source": [
    "third_criteria(first_text)"
   ]
  },
  {
   "cell_type": "markdown",
   "metadata": {
    "deletable": true,
    "editable": true
   },
   "source": [
    "Mr. Wilson was not really satisfied with the write up. So he edited the few portions of the document and has resent the document for validation.\n",
    "\n",
    "~~~~ \n",
    "Musk was born on June 28, 1971, in Pretoria, Gauteng, South Africa,[27] the son of Maye Musk (née Haldeman), a model and dietician from Regina, Saskatchewan, Canada;[28] and Errol Musk, a South African electromechanical engineer, pilot and sailor. He has a younger brother, Kimbal (born 1972), and a younger sister, Tosca (born 1974).[28][29][30][31] His paternal grandmother was British, and he also has Pennsylvania Dutch ancestry,[32][33] and his maternal grandfather was American, from Minnesota.[34] After his parents divorced in 1980, Musk lived mostly with his father in the suburbs of Pretoria.[32]\n",
    "\n",
    "During his childhood he had an interest in reading and often did so for hours at a time.[35]\n",
    "\n",
    "At What age did Musk got interested in computing?At age 10, he developed an interest in computing with the Commodore VIC-20.[36] He taught himself computer programming at the age of 12, sold the code for a BASIC-based video game he created called Blastar, to a magazine called PC and Office Technology, for approximately $500. [37][38] A web version of the game is available online.[37][39]\n",
    "\n",
    "Musk was severely bullied throughout his childhood, and was once hospitalized when a group of boys threw him down a flight of stairs and then beat him until he lost consciousness.[40]\n",
    "\n",
    "Musk was initially educated at private schools, attending the English-speaking Waterkloof House Preparatory School. \n",
    "\n",
    "Mr. Sing helped Musk during his initial days when he was severely bullied during his childhood.\n",
    "\n",
    "Musk later graduated from Pretoria Boys High School and moved to Canada in June 1989, just before his 18th birthday,[41] after obtaining Canadian citizenship through his Canadian-born mother.[42][43] Although at the time Musk had to register to become a Canadian citizen, Bill C-37, which came into law in April of 2009, effectively made his Canadian citizenship retroactive to his birth since he was born in the first generation abroad to a Canadian-born mother. Therefore, with the law change, he is considered to have always been a Canadian citizen by birth.\n",
    "~~~~\n",
    "\n",
    "#### Detect the content sent by Mr. Wilson. ####\n",
    "\n",
    "#### Also spot the differences between the content posted now and the content posted earlier. ####\n",
    "\n"
   ]
  },
  {
   "cell_type": "code",
   "execution_count": null,
   "metadata": {
    "collapsed": true,
    "deletable": true,
    "editable": true
   },
   "outputs": [],
   "source": [
    "# Use the function created earlier to detect the first criteria"
   ]
  },
  {
   "cell_type": "code",
   "execution_count": 69,
   "metadata": {
    "collapsed": true,
    "deletable": true,
    "editable": true
   },
   "outputs": [],
   "source": [
    "from nltk.tokenize import PunktSentenceTokenizer"
   ]
  },
  {
   "cell_type": "code",
   "execution_count": 70,
   "metadata": {
    "collapsed": true,
    "deletable": true,
    "editable": true
   },
   "outputs": [],
   "source": [
    "train_text = \"Mr. Sing is cool\""
   ]
  },
  {
   "cell_type": "code",
   "execution_count": 71,
   "metadata": {
    "collapsed": true,
    "deletable": true,
    "editable": true
   },
   "outputs": [],
   "source": [
    "test_text = \"\"\"Musk was born on June 28, 1971, in Pretoria, Gauteng, South Africa,[27] the son of Maye Musk (née Haldeman), a model and dietician from Regina, Saskatchewan, Canada;[28] and Errol Musk, a South African electromechanical engineer, pilot and sailor. He has a younger brother, Kimbal (born 1972), and a younger sister, Tosca (born 1974).[28][29][30][31] His paternal grandmother was British, and he also has Pennsylvania Dutch ancestry,[32][33] and his maternal grandfather was American, from Minnesota.[34] After his parents divorced in 1980, Musk lived mostly with his father in the suburbs of Pretoria.[32]\n",
    "\n",
    "During his childhood he had an interest in reading and often did so for hours at a time.[35]\n",
    "\n",
    "At What age did Musk got interested in computing?At age 10, he developed an interest in computing with the Commodore VIC-20.[36] He taught himself computer programming at the age of 12, sold the code for a BASIC-based video game he created called Blastar, to a magazine called PC and Office Technology, for approximately $500. [37][38] A web version of the game is available online.[37][39]\n",
    "\n",
    "Musk was severely bullied throughout his childhood, and was once hospitalized when a group of boys threw him down a flight of stairs and then beat him until he lost consciousness.[40]\n",
    "\n",
    "Musk was initially educated at private schools, attending the English-speaking Waterkloof House Preparatory School. \n",
    "\n",
    "Mr. Sing helped Musk during his initial days when he was severely bullied during his childhood.\n",
    "\n",
    "Musk later graduated from Pretoria Boys High School and moved to Canada in June 1989, just before his 18th birthday,[41] after obtaining Canadian citizenship through his Canadian-born mother.[42][43] Although at the time Musk had to register to become a Canadian citizen, Bill C-37, which came into law in April of 2009, effectively made his Canadian citizenship retroactive to his birth since he was born in the first generation abroad to a Canadian-born mother. Therefore, with the law change, he is considered to have always been a Canadian citizen by birth.\"\"\"\n",
    "\n"
   ]
  },
  {
   "cell_type": "code",
   "execution_count": 72,
   "metadata": {
    "collapsed": false,
    "deletable": true,
    "editable": true
   },
   "outputs": [],
   "source": [
    "def first_criteria_2(train,test):\n",
    "    custom_tokenizer = PunktSentenceTokenizer(train)\n",
    "    tokinized = custom_tokenizer.tokenize(test)\n",
    "    no_of_sentences = len(tokinized)\n",
    "    if(no_of_sentences <= 15):\n",
    "        print(\"given text matches first criteria and no of sentences is\",no_of_sentences)\n",
    "    else:\n",
    "        print(\"given text does not match first criteria and no of sentences is\",no_of_sentences)\n",
    "    \n",
    "\n",
    "\n",
    "    \n",
    "\n"
   ]
  },
  {
   "cell_type": "code",
   "execution_count": 73,
   "metadata": {
    "collapsed": false,
    "deletable": true,
    "editable": true
   },
   "outputs": [
    {
     "name": "stdout",
     "output_type": "stream",
     "text": [
      "given text matches first criteria and no of sentences is 14\n"
     ]
    }
   ],
   "source": [
    "first_criteria_2(train_text,test_text)"
   ]
  },
  {
   "cell_type": "code",
   "execution_count": 74,
   "metadata": {
    "collapsed": true,
    "deletable": true,
    "editable": true
   },
   "outputs": [],
   "source": [
    "# Use the function created earlier to detect the second criteria"
   ]
  },
  {
   "cell_type": "code",
   "execution_count": 78,
   "metadata": {
    "collapsed": true,
    "deletable": true,
    "editable": true
   },
   "outputs": [],
   "source": [
    "def second_criteria_2(list):\n",
    "    words_length = []    \n",
    "    for l in list:\n",
    "        words = regexp_tokenize(l, pattern=r'[^(+\\[\\d{1,2}\\]\\n]\\w+')\n",
    "        words_length.append(len(words))\n",
    "    for i in range(len(words_length)):\n",
    "        j = i+1\n",
    "        if(words_length[i] <= 15):\n",
    "            print(\"sentence\",j,\"has\",words_length[i],\"words which is less than 15 words and matches criteria\")\n",
    "        else:\n",
    "            print(\"sentence\",j,\"has\",words_length[i],\"words which is more than 15 words and doesnot match criteria\")\n",
    "       \n",
    "        \n",
    "   "
   ]
  },
  {
   "cell_type": "code",
   "execution_count": 79,
   "metadata": {
    "collapsed": false,
    "deletable": true,
    "editable": true
   },
   "outputs": [
    {
     "name": "stdout",
     "output_type": "stream",
     "text": [
      "sentence 1 has 38 words which is more than 15 words and doesnot match criteria\n",
      "sentence 2 has 15 words which is less than 15 words and matches criteria\n",
      "sentence 3 has 20 words which is more than 15 words and doesnot match criteria\n",
      "sentence 4 has 17 words which is more than 15 words and doesnot match criteria\n",
      "sentence 5 has 18 words which is more than 15 words and doesnot match criteria\n",
      "sentence 6 has 23 words which is more than 15 words and doesnot match criteria\n",
      "sentence 7 has 34 words which is more than 15 words and doesnot match criteria\n",
      "sentence 8 has 9 words which is less than 15 words and matches criteria\n",
      "sentence 9 has 31 words which is more than 15 words and doesnot match criteria\n",
      "sentence 10 has 15 words which is less than 15 words and matches criteria\n",
      "sentence 11 has 16 words which is more than 15 words and doesnot match criteria\n",
      "sentence 12 has 29 words which is more than 15 words and doesnot match criteria\n",
      "sentence 13 has 47 words which is more than 15 words and doesnot match criteria\n",
      "sentence 14 has 17 words which is more than 15 words and doesnot match criteria\n"
     ]
    }
   ],
   "source": [
    "#first_text_sentences =(first_text)\n",
    "custom_tokenizer = PunktSentenceTokenizer(train_text)\n",
    "sentences = custom_tokenizer.tokenize(test_text)\n",
    "second_criteria_2(sentences)"
   ]
  },
  {
   "cell_type": "code",
   "execution_count": 77,
   "metadata": {
    "collapsed": true,
    "deletable": true,
    "editable": true
   },
   "outputs": [],
   "source": [
    "# Use the function created earlier to detect the third critera"
   ]
  },
  {
   "cell_type": "code",
   "execution_count": 80,
   "metadata": {
    "collapsed": true,
    "deletable": true,
    "editable": true
   },
   "outputs": [],
   "source": [
    "def third_criteria_2(list):\n",
    "    words = word_tokenize(list)\n",
    "    for i in words:\n",
    "        word_length = len(i)\n",
    "        if(word_length > 15):\n",
    "            print(\"the word\",i,\"has more than than 15 words\")\n",
    "    \n",
    "    \n"
   ]
  },
  {
   "cell_type": "code",
   "execution_count": 81,
   "metadata": {
    "collapsed": false,
    "deletable": true,
    "editable": true
   },
   "outputs": [
    {
     "name": "stdout",
     "output_type": "stream",
     "text": [
      "the word electromechanical has more than than 15 words\n",
      "the word English-speaking has more than than 15 words\n"
     ]
    }
   ],
   "source": [
    "third_criteria_2(test_text)"
   ]
  },
  {
   "cell_type": "code",
   "execution_count": null,
   "metadata": {
    "collapsed": true,
    "deletable": true,
    "editable": true
   },
   "outputs": [],
   "source": []
  }
 ],
 "metadata": {
  "kernelspec": {
   "display_name": "Python 3",
   "language": "python",
   "name": "python3"
  },
  "language_info": {
   "codemirror_mode": {
    "name": "ipython",
    "version": 3
   },
   "file_extension": ".py",
   "mimetype": "text/x-python",
   "name": "python",
   "nbconvert_exporter": "python",
   "pygments_lexer": "ipython3",
   "version": "3.5.2"
  }
 },
 "nbformat": 4,
 "nbformat_minor": 2
}
